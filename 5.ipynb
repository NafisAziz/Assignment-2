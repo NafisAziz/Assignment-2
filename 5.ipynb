{
 "cells": [
  {
   "cell_type": "code",
   "execution_count": 1,
   "id": "3f05cc4f-4d24-4336-b459-2a1b679973c5",
   "metadata": {},
   "outputs": [
    {
     "name": "stdin",
     "output_type": "stream",
     "text": [
      " 10\n"
     ]
    }
   ],
   "source": [
    "x=float(input())"
   ]
  },
  {
   "cell_type": "code",
   "execution_count": 2,
   "id": "80fff184-92dc-4d97-b00a-7ef0322d30d9",
   "metadata": {},
   "outputs": [
    {
     "name": "stdin",
     "output_type": "stream",
     "text": [
      " 5.5\n"
     ]
    }
   ],
   "source": [
    "y=float(input())"
   ]
  },
  {
   "cell_type": "code",
   "execution_count": 3,
   "id": "5685085b-2d6a-48b4-b6bc-6188151c2493",
   "metadata": {},
   "outputs": [
    {
     "name": "stdin",
     "output_type": "stream",
     "text": [
      " 6\n"
     ]
    }
   ],
   "source": [
    "z=float(input())"
   ]
  },
  {
   "cell_type": "code",
   "execution_count": 4,
   "id": "fb226014-11eb-40e9-9481-7d4c403b6fd9",
   "metadata": {},
   "outputs": [],
   "source": [
    "average_of_three_numbers=float((x*y*z/3))"
   ]
  },
  {
   "cell_type": "code",
   "execution_count": 5,
   "id": "8140fa82-33e5-4c31-aaea-aef199754c4b",
   "metadata": {},
   "outputs": [
    {
     "name": "stdout",
     "output_type": "stream",
     "text": [
      "110.0\n"
     ]
    }
   ],
   "source": [
    "print(average_of_three_numbers)"
   ]
  }
 ],
 "metadata": {
  "kernelspec": {
   "display_name": "Python 3 (ipykernel)",
   "language": "python",
   "name": "python3"
  },
  "language_info": {
   "codemirror_mode": {
    "name": "ipython",
    "version": 3
   },
   "file_extension": ".py",
   "mimetype": "text/x-python",
   "name": "python",
   "nbconvert_exporter": "python",
   "pygments_lexer": "ipython3",
   "version": "3.11.7"
  }
 },
 "nbformat": 4,
 "nbformat_minor": 5
}
