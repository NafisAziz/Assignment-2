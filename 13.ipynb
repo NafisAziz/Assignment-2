{
 "cells": [
  {
   "cell_type": "code",
   "execution_count": 1,
   "id": "e4a6a029-21f6-4b4e-a477-def6b3251de1",
   "metadata": {},
   "outputs": [
    {
     "name": "stdin",
     "output_type": "stream",
     "text": [
      " 10\n"
     ]
    }
   ],
   "source": [
    "num=int(input())"
   ]
  },
  {
   "cell_type": "code",
   "execution_count": 2,
   "id": "32f33a21-f57c-4892-8488-d729893a67df",
   "metadata": {},
   "outputs": [],
   "source": [
    "a,b=0,1"
   ]
  },
  {
   "cell_type": "code",
   "execution_count": 3,
   "id": "3ebc9bec-62df-47f1-a942-fe0fcd0e66c2",
   "metadata": {},
   "outputs": [
    {
     "name": "stdout",
     "output_type": "stream",
     "text": [
      "Fibonacci Numbers:\n",
      "0,1,1,2,3,5,8,13,21,34,"
     ]
    }
   ],
   "source": [
    "print(\"Fibonacci Numbers:\")\n",
    "for i in range(num):\n",
    "    print(a, end=',')\n",
    "    a,b=b,a+b"
   ]
  }
 ],
 "metadata": {
  "kernelspec": {
   "display_name": "Python 3 (ipykernel)",
   "language": "python",
   "name": "python3"
  },
  "language_info": {
   "codemirror_mode": {
    "name": "ipython",
    "version": 3
   },
   "file_extension": ".py",
   "mimetype": "text/x-python",
   "name": "python",
   "nbconvert_exporter": "python",
   "pygments_lexer": "ipython3",
   "version": "3.11.7"
  }
 },
 "nbformat": 4,
 "nbformat_minor": 5
}
