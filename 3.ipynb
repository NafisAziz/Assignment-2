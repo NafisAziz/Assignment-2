{
 "cells": [
  {
   "cell_type": "code",
   "execution_count": 1,
   "id": "9a3a87e5-46fd-43d4-9ed7-f71c57046705",
   "metadata": {},
   "outputs": [
    {
     "name": "stdin",
     "output_type": "stream",
     "text": [
      " 100\n"
     ]
    }
   ],
   "source": [
    "c=float(input())"
   ]
  },
  {
   "cell_type": "code",
   "execution_count": 2,
   "id": "0472e046-d1fe-444f-9e80-e7e7fc95b9a1",
   "metadata": {},
   "outputs": [],
   "source": [
    "Fahrenheit=float(((c*9)/5)+32)"
   ]
  },
  {
   "cell_type": "code",
   "execution_count": 3,
   "id": "149580e8-c954-40fe-bbc4-dfea6c3a4686",
   "metadata": {},
   "outputs": [
    {
     "name": "stdout",
     "output_type": "stream",
     "text": [
      "212.0\n"
     ]
    }
   ],
   "source": [
    "print(Fahrenheit)"
   ]
  },
  {
   "cell_type": "code",
   "execution_count": 4,
   "id": "76cc17c8-6f33-4839-9655-2fb2ad8a3c24",
   "metadata": {},
   "outputs": [
    {
     "name": "stdin",
     "output_type": "stream",
     "text": [
      " 50\n"
     ]
    }
   ],
   "source": [
    "f=float(input())"
   ]
  },
  {
   "cell_type": "code",
   "execution_count": 5,
   "id": "4f1744e8-6abb-4c58-9853-7c98c7f052e9",
   "metadata": {},
   "outputs": [],
   "source": [
    "Celsius=float(((f-32)*(5/9)))"
   ]
  },
  {
   "cell_type": "code",
   "execution_count": 6,
   "id": "f50cf73b-176c-4ac9-9ac4-9ee4bd823949",
   "metadata": {},
   "outputs": [
    {
     "name": "stdout",
     "output_type": "stream",
     "text": [
      "10.0\n"
     ]
    }
   ],
   "source": [
    "print(Celsius)"
   ]
  }
 ],
 "metadata": {
  "kernelspec": {
   "display_name": "Python 3 (ipykernel)",
   "language": "python",
   "name": "python3"
  },
  "language_info": {
   "codemirror_mode": {
    "name": "ipython",
    "version": 3
   },
   "file_extension": ".py",
   "mimetype": "text/x-python",
   "name": "python",
   "nbconvert_exporter": "python",
   "pygments_lexer": "ipython3",
   "version": "3.11.7"
  }
 },
 "nbformat": 4,
 "nbformat_minor": 5
}
