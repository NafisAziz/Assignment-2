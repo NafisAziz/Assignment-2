{
 "cells": [
  {
   "cell_type": "code",
   "execution_count": 1,
   "id": "c4688da8-ed57-4beb-91e5-7df058125a5c",
   "metadata": {},
   "outputs": [
    {
     "name": "stdin",
     "output_type": "stream",
     "text": [
      " 10\n"
     ]
    }
   ],
   "source": [
    "number=int(input())"
   ]
  },
  {
   "cell_type": "code",
   "execution_count": 2,
   "id": "62ca23f8-b5fa-405d-b570-cc133bcfb48d",
   "metadata": {},
   "outputs": [],
   "source": [
    "Sum=0\n",
    "count=2"
   ]
  },
  {
   "cell_type": "code",
   "execution_count": 3,
   "id": "2d34cf40-2067-40cf-a37f-3b3bedfbc0fd",
   "metadata": {},
   "outputs": [],
   "source": [
    "while(count<=number):\n",
    "      Sum+=count\n",
    "      count+=2"
   ]
  },
  {
   "cell_type": "code",
   "execution_count": 4,
   "id": "9a0b047c-18ac-4086-aff9-0bfe3f54e64c",
   "metadata": {},
   "outputs": [
    {
     "name": "stdout",
     "output_type": "stream",
     "text": [
      "Sum of all even numbers between 1 and 'n': 30\n"
     ]
    }
   ],
   "source": [
    "print(\"Sum of all even numbers between 1 and 'n':\",Sum)"
   ]
  }
 ],
 "metadata": {
  "kernelspec": {
   "display_name": "Python 3 (ipykernel)",
   "language": "python",
   "name": "python3"
  },
  "language_info": {
   "codemirror_mode": {
    "name": "ipython",
    "version": 3
   },
   "file_extension": ".py",
   "mimetype": "text/x-python",
   "name": "python",
   "nbconvert_exporter": "python",
   "pygments_lexer": "ipython3",
   "version": "3.11.7"
  }
 },
 "nbformat": 4,
 "nbformat_minor": 5
}
