{
 "cells": [
  {
   "cell_type": "code",
   "execution_count": 1,
   "id": "ee4d34cd-8208-423b-9f01-f893a3c2e8c5",
   "metadata": {},
   "outputs": [],
   "source": [
    "x=5"
   ]
  },
  {
   "cell_type": "code",
   "execution_count": 2,
   "id": "cd26ea2d-58b7-4fe5-b740-287399f1c240",
   "metadata": {},
   "outputs": [],
   "source": [
    "y=10"
   ]
  },
  {
   "cell_type": "code",
   "execution_count": 3,
   "id": "140cb694-8456-4529-84a8-406ccc59308e",
   "metadata": {},
   "outputs": [],
   "source": [
    "temp=x"
   ]
  },
  {
   "cell_type": "code",
   "execution_count": 4,
   "id": "75a5904d-c88f-4004-a4a6-55bed81ffad5",
   "metadata": {},
   "outputs": [],
   "source": [
    "x=y"
   ]
  },
  {
   "cell_type": "code",
   "execution_count": 5,
   "id": "6b5859c1-b8f1-4ac8-8a9c-800c5b8edf31",
   "metadata": {},
   "outputs": [],
   "source": [
    "y=temp"
   ]
  },
  {
   "cell_type": "code",
   "execution_count": 6,
   "id": "3f1a6cfe-bff9-4ac6-b961-31bf6457518a",
   "metadata": {},
   "outputs": [
    {
     "name": "stdout",
     "output_type": "stream",
     "text": [
      "10\n"
     ]
    }
   ],
   "source": [
    "print(x)"
   ]
  },
  {
   "cell_type": "code",
   "execution_count": 7,
   "id": "e350e883-b6bb-4664-8617-af06c94397c1",
   "metadata": {},
   "outputs": [
    {
     "name": "stdout",
     "output_type": "stream",
     "text": [
      "5\n"
     ]
    }
   ],
   "source": [
    "print(y)"
   ]
  }
 ],
 "metadata": {
  "kernelspec": {
   "display_name": "Python 3 (ipykernel)",
   "language": "python",
   "name": "python3"
  },
  "language_info": {
   "codemirror_mode": {
    "name": "ipython",
    "version": 3
   },
   "file_extension": ".py",
   "mimetype": "text/x-python",
   "name": "python",
   "nbconvert_exporter": "python",
   "pygments_lexer": "ipython3",
   "version": "3.11.7"
  }
 },
 "nbformat": 4,
 "nbformat_minor": 5
}
