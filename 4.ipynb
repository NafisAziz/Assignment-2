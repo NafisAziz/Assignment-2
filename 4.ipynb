{
 "cells": [
  {
   "cell_type": "code",
   "execution_count": 1,
   "id": "c6c21b61-d562-48f1-aa89-c04b9a4ac3d8",
   "metadata": {},
   "outputs": [],
   "source": [
    "import math"
   ]
  },
  {
   "cell_type": "code",
   "execution_count": 2,
   "id": "1f154d3f-207c-4ecc-802d-7ac7a0f07c07",
   "metadata": {},
   "outputs": [],
   "source": [
    "pi=math.pi"
   ]
  },
  {
   "cell_type": "code",
   "execution_count": 3,
   "id": "87ed98b2-65a0-418f-a75e-8790d9f13b38",
   "metadata": {},
   "outputs": [
    {
     "name": "stdin",
     "output_type": "stream",
     "text": [
      " 7.5\n"
     ]
    }
   ],
   "source": [
    "r=float(input())"
   ]
  },
  {
   "cell_type": "code",
   "execution_count": 4,
   "id": "43965158-f1cf-430e-b543-0b8000834a46",
   "metadata": {},
   "outputs": [],
   "source": [
    "volume_of_a_sphere=float((4/3)*pi*r*r*r)"
   ]
  },
  {
   "cell_type": "code",
   "execution_count": 5,
   "id": "35bf99f2-2298-4dec-85f2-f7a8f6006349",
   "metadata": {},
   "outputs": [
    {
     "name": "stdout",
     "output_type": "stream",
     "text": [
      "1767.1458676442585\n"
     ]
    }
   ],
   "source": [
    "print(volume_of_a_sphere)"
   ]
  },
  {
   "cell_type": "code",
   "execution_count": null,
   "id": "ecaced27-885e-4bb5-b3ec-83e0cd312896",
   "metadata": {},
   "outputs": [],
   "source": []
  },
  {
   "cell_type": "code",
   "execution_count": null,
   "id": "923f6930-a8c5-41c0-9622-1f99b8100580",
   "metadata": {},
   "outputs": [],
   "source": []
  },
  {
   "cell_type": "code",
   "execution_count": null,
   "id": "f2269d76-b6c8-447d-873d-7968438552b4",
   "metadata": {},
   "outputs": [],
   "source": []
  },
  {
   "cell_type": "code",
   "execution_count": null,
   "id": "9f348283-307f-48c4-9e09-02e23561256d",
   "metadata": {},
   "outputs": [],
   "source": []
  },
  {
   "cell_type": "code",
   "execution_count": null,
   "id": "b1b57a8e-fb14-4ac1-8f69-a7e033fde675",
   "metadata": {},
   "outputs": [],
   "source": []
  }
 ],
 "metadata": {
  "kernelspec": {
   "display_name": "Python 3 (ipykernel)",
   "language": "python",
   "name": "python3"
  },
  "language_info": {
   "codemirror_mode": {
    "name": "ipython",
    "version": 3
   },
   "file_extension": ".py",
   "mimetype": "text/x-python",
   "name": "python",
   "nbconvert_exporter": "python",
   "pygments_lexer": "ipython3",
   "version": "3.11.7"
  }
 },
 "nbformat": 4,
 "nbformat_minor": 5
}
