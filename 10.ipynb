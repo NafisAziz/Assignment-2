{
 "cells": [
  {
   "cell_type": "code",
   "execution_count": 1,
   "id": "9147b253-e5c7-4582-a1db-a1ba80fbf7ec",
   "metadata": {},
   "outputs": [
    {
     "name": "stdin",
     "output_type": "stream",
     "text": [
      "Number:  85\n"
     ]
    }
   ],
   "source": [
    "marks=int(input(\"Number: \"))"
   ]
  },
  {
   "cell_type": "code",
   "execution_count": 2,
   "id": "07cdfa2f-85f7-47ab-bae1-0dff3f5f6663",
   "metadata": {},
   "outputs": [
    {
     "name": "stdout",
     "output_type": "stream",
     "text": [
      "A+\n"
     ]
    }
   ],
   "source": [
    "if(marks>=80 and marks<=100):\n",
    "    print(\"A+\")\n",
    "elif(marks>=75 and marks<80):\n",
    "    print(\"A\")\n",
    "elif(marks>=70 and marks<75):\n",
    "    print(\"A-\")\n",
    "elif(marks>=65 and marks<70):\n",
    "    print(\"B+\")\n",
    "elif(marks>=60 and marks<65):\n",
    "    print(\"B\")\n",
    "elif(marks>=55 and marks<60):\n",
    "    print(\"B-\")\n",
    "elif(marks>=50 and marks<55):\n",
    "    print(\"C+\")\n",
    "elif(marks>=45 and marks<50):\n",
    "    print(\"C\")\n",
    "elif(marks>=40 and marks<45):\n",
    "    print(\"D\")\n",
    "elif(marks<40):\n",
    "    print(\"F\")    "
   ]
  }
 ],
 "metadata": {
  "kernelspec": {
   "display_name": "Python 3 (ipykernel)",
   "language": "python",
   "name": "python3"
  },
  "language_info": {
   "codemirror_mode": {
    "name": "ipython",
    "version": 3
   },
   "file_extension": ".py",
   "mimetype": "text/x-python",
   "name": "python",
   "nbconvert_exporter": "python",
   "pygments_lexer": "ipython3",
   "version": "3.11.7"
  }
 },
 "nbformat": 4,
 "nbformat_minor": 5
}
