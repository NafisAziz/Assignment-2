{
 "cells": [
  {
   "cell_type": "code",
   "execution_count": 1,
   "id": "392dd576-b524-4ebb-95ff-a5d20169d337",
   "metadata": {},
   "outputs": [
    {
     "name": "stdin",
     "output_type": "stream",
     "text": [
      "Number:  10.55\n"
     ]
    }
   ],
   "source": [
    "x=float(input(\"Number: \"))"
   ]
  },
  {
   "cell_type": "code",
   "execution_count": 2,
   "id": "970bb2e8-7ec5-4986-b5b6-a1a6a3a8944a",
   "metadata": {},
   "outputs": [
    {
     "name": "stdout",
     "output_type": "stream",
     "text": [
      "Positive\n"
     ]
    }
   ],
   "source": [
    "if(x>0):\n",
    "    print(\"Positive\")\n",
    "elif(x<0):\n",
    "    print(\"Negative\")\n",
    "else:\n",
    "    print(\"Zero\")"
   ]
  }
 ],
 "metadata": {
  "kernelspec": {
   "display_name": "Python 3 (ipykernel)",
   "language": "python",
   "name": "python3"
  },
  "language_info": {
   "codemirror_mode": {
    "name": "ipython",
    "version": 3
   },
   "file_extension": ".py",
   "mimetype": "text/x-python",
   "name": "python",
   "nbconvert_exporter": "python",
   "pygments_lexer": "ipython3",
   "version": "3.11.7"
  }
 },
 "nbformat": 4,
 "nbformat_minor": 5
}
