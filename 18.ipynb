{
 "cells": [
  {
   "cell_type": "code",
   "execution_count": 1,
   "id": "7fee99c5-0126-4152-b9df-6b5071a4b3b7",
   "metadata": {},
   "outputs": [
    {
     "name": "stdin",
     "output_type": "stream",
     "text": [
      " radar\n"
     ]
    }
   ],
   "source": [
    "word=str(input())"
   ]
  },
  {
   "cell_type": "code",
   "execution_count": 2,
   "id": "d01e4d1c-3211-482e-99e5-f0d1f00a9bb9",
   "metadata": {},
   "outputs": [],
   "source": [
    "left = 0\n",
    "right = len(word) - 1\n",
    "is_palindrome = True"
   ]
  },
  {
   "cell_type": "code",
   "execution_count": 3,
   "id": "ecb6e347-af4f-4837-bbc8-f7e102c90c84",
   "metadata": {},
   "outputs": [
    {
     "name": "stdout",
     "output_type": "stream",
     "text": [
      "radar is a palindrome.\n"
     ]
    }
   ],
   "source": [
    "while(left<right):\n",
    "    if word[left] != word[right]:\n",
    "        is_palindrome = False\n",
    "        break    \n",
    "    left += 1\n",
    "    right -= 1\n",
    "if is_palindrome:\n",
    "    print(word,\"is a palindrome.\")\n",
    "else:\n",
    "    print(word,\"is not a palindrome.\")"
   ]
  }
 ],
 "metadata": {
  "kernelspec": {
   "display_name": "Python 3 (ipykernel)",
   "language": "python",
   "name": "python3"
  },
  "language_info": {
   "codemirror_mode": {
    "name": "ipython",
    "version": 3
   },
   "file_extension": ".py",
   "mimetype": "text/x-python",
   "name": "python",
   "nbconvert_exporter": "python",
   "pygments_lexer": "ipython3",
   "version": "3.11.7"
  }
 },
 "nbformat": 4,
 "nbformat_minor": 5
}
