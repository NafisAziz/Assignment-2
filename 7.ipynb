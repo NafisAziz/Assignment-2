{
 "cells": [
  {
   "cell_type": "code",
   "execution_count": 1,
   "id": "c16fd037-e327-44a5-9ed6-e468748762ae",
   "metadata": {},
   "outputs": [
    {
     "name": "stdin",
     "output_type": "stream",
     "text": [
      " 10\n"
     ]
    }
   ],
   "source": [
    "x=float(input())"
   ]
  },
  {
   "cell_type": "code",
   "execution_count": 2,
   "id": "02ff81ee-4083-4280-8547-239a9db9f5b8",
   "metadata": {},
   "outputs": [
    {
     "name": "stdin",
     "output_type": "stream",
     "text": [
      " 20\n"
     ]
    }
   ],
   "source": [
    "y=float(input())"
   ]
  },
  {
   "cell_type": "code",
   "execution_count": 3,
   "id": "fab63f0a-032a-4ef2-93e9-76840caf85e4",
   "metadata": {},
   "outputs": [
    {
     "name": "stdin",
     "output_type": "stream",
     "text": [
      " 30\n"
     ]
    }
   ],
   "source": [
    "z=float(input())"
   ]
  },
  {
   "cell_type": "code",
   "execution_count": 4,
   "id": "c2dfe9e9-095c-46b1-9fab-5aef78deaf2a",
   "metadata": {},
   "outputs": [
    {
     "name": "stdout",
     "output_type": "stream",
     "text": [
      "z\n"
     ]
    }
   ],
   "source": [
    "if(x>y and y>z):\n",
    "    print(\"X\")\n",
    "elif(y>x and x>z):\n",
    "    print(\"y\")\n",
    "else:\n",
    "    print(\"z\")"
   ]
  },
  {
   "cell_type": "code",
   "execution_count": null,
   "id": "ebb9c002-b2f3-4be3-b4fd-66e53f2ff189",
   "metadata": {},
   "outputs": [],
   "source": []
  },
  {
   "cell_type": "code",
   "execution_count": null,
   "id": "844536ad-92d0-4bfa-b3f7-964aae86e8bc",
   "metadata": {},
   "outputs": [],
   "source": []
  },
  {
   "cell_type": "markdown",
   "id": "b8b47d33-dff1-48cd-885e-112232ba7b1e",
   "metadata": {},
   "source": [
    "# "
   ]
  }
 ],
 "metadata": {
  "kernelspec": {
   "display_name": "Python 3 (ipykernel)",
   "language": "python",
   "name": "python3"
  },
  "language_info": {
   "codemirror_mode": {
    "name": "ipython",
    "version": 3
   },
   "file_extension": ".py",
   "mimetype": "text/x-python",
   "name": "python",
   "nbconvert_exporter": "python",
   "pygments_lexer": "ipython3",
   "version": "3.11.7"
  }
 },
 "nbformat": 4,
 "nbformat_minor": 5
}
