{
 "cells": [
  {
   "cell_type": "code",
   "execution_count": 1,
   "id": "e7080fb4-f6f4-4c6d-bb50-07d9153bcd89",
   "metadata": {},
   "outputs": [
    {
     "name": "stdin",
     "output_type": "stream",
     "text": [
      " 12\n",
      " 20\n"
     ]
    }
   ],
   "source": [
    "a =int(input())\n",
    "b =int(input())"
   ]
  },
  {
   "cell_type": "code",
   "execution_count": 2,
   "id": "ec942797-5787-4924-964c-7ae0be4c364e",
   "metadata": {},
   "outputs": [],
   "source": [
    "x=a\n",
    "y=b"
   ]
  },
  {
   "cell_type": "code",
   "execution_count": 3,
   "id": "138456b4-992a-4721-9777-796439c8fcbb",
   "metadata": {},
   "outputs": [],
   "source": [
    "while (a!=b):\n",
    "    if (a>b):\n",
    "        a -= b\n",
    "    else:\n",
    "        b -= a"
   ]
  },
  {
   "cell_type": "code",
   "execution_count": 4,
   "id": "7dcec885-df92-4f20-b3a6-3af75dd2282c",
   "metadata": {},
   "outputs": [
    {
     "name": "stdout",
     "output_type": "stream",
     "text": [
      "GCD of 12 and 20 is 4\n"
     ]
    }
   ],
   "source": [
    "print(\"GCD of\", x, \"and\", y, \"is\", a)"
   ]
  }
 ],
 "metadata": {
  "kernelspec": {
   "display_name": "Python 3 (ipykernel)",
   "language": "python",
   "name": "python3"
  },
  "language_info": {
   "codemirror_mode": {
    "name": "ipython",
    "version": 3
   },
   "file_extension": ".py",
   "mimetype": "text/x-python",
   "name": "python",
   "nbconvert_exporter": "python",
   "pygments_lexer": "ipython3",
   "version": "3.11.7"
  }
 },
 "nbformat": 4,
 "nbformat_minor": 5
}
