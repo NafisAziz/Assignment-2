{
 "cells": [
  {
   "cell_type": "code",
   "execution_count": 1,
   "id": "9f3bb98b-5ae2-41c8-b1de-6c1436bceeed",
   "metadata": {},
   "outputs": [
    {
     "name": "stdin",
     "output_type": "stream",
     "text": [
      " 100.555\n"
     ]
    }
   ],
   "source": [
    "length=float(input())"
   ]
  },
  {
   "cell_type": "code",
   "execution_count": 2,
   "id": "b1292669-68b5-4a2b-a3fa-9c5dc8bf8e1e",
   "metadata": {},
   "outputs": [
    {
     "name": "stdin",
     "output_type": "stream",
     "text": [
      " 52.566\n"
     ]
    }
   ],
   "source": [
    "width=float(input())"
   ]
  },
  {
   "cell_type": "code",
   "execution_count": 3,
   "id": "36e39c26-f00c-4f02-b66e-562127744b45",
   "metadata": {},
   "outputs": [],
   "source": [
    "area=length*width"
   ]
  },
  {
   "cell_type": "code",
   "execution_count": 4,
   "id": "09de530f-4f98-4569-b3cb-d322c2816b5c",
   "metadata": {},
   "outputs": [
    {
     "name": "stdout",
     "output_type": "stream",
     "text": [
      "5285.774130000001\n"
     ]
    }
   ],
   "source": [
    "print(area)"
   ]
  }
 ],
 "metadata": {
  "kernelspec": {
   "display_name": "Python 3 (ipykernel)",
   "language": "python",
   "name": "python3"
  },
  "language_info": {
   "codemirror_mode": {
    "name": "ipython",
    "version": 3
   },
   "file_extension": ".py",
   "mimetype": "text/x-python",
   "name": "python",
   "nbconvert_exporter": "python",
   "pygments_lexer": "ipython3",
   "version": "3.11.7"
  }
 },
 "nbformat": 4,
 "nbformat_minor": 5
}
