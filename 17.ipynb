{
 "cells": [
  {
   "cell_type": "code",
   "execution_count": 1,
   "id": "a4a62b66-4d96-4caf-b019-2a700a5213a6",
   "metadata": {},
   "outputs": [
    {
     "name": "stdin",
     "output_type": "stream",
     "text": [
      " 987654321\n"
     ]
    }
   ],
   "source": [
    "num=int(input())"
   ]
  },
  {
   "cell_type": "code",
   "execution_count": 2,
   "id": "ff2e5e4c-377a-4f36-a2c0-a155721d937e",
   "metadata": {},
   "outputs": [],
   "source": [
    "reversed_num=0"
   ]
  },
  {
   "cell_type": "code",
   "execution_count": 3,
   "id": "cda09884-9840-47f2-9e14-af2a9135f0a3",
   "metadata": {},
   "outputs": [],
   "source": [
    "while(num!=0):\n",
    "    digit=num%10\n",
    "    reversed_num = reversed_num*10 +digit\n",
    "    num //= 10"
   ]
  },
  {
   "cell_type": "code",
   "execution_count": 4,
   "id": "7e62d077-d00d-4191-9e52-fc1107647f23",
   "metadata": {},
   "outputs": [
    {
     "name": "stdout",
     "output_type": "stream",
     "text": [
      "Reversed Number: 123456789\n"
     ]
    }
   ],
   "source": [
    "print(\"Reversed Number:\",str(reversed_num))"
   ]
  }
 ],
 "metadata": {
  "kernelspec": {
   "display_name": "Python 3 (ipykernel)",
   "language": "python",
   "name": "python3"
  },
  "language_info": {
   "codemirror_mode": {
    "name": "ipython",
    "version": 3
   },
   "file_extension": ".py",
   "mimetype": "text/x-python",
   "name": "python",
   "nbconvert_exporter": "python",
   "pygments_lexer": "ipython3",
   "version": "3.11.7"
  }
 },
 "nbformat": 4,
 "nbformat_minor": 5
}
