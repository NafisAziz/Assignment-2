{
 "cells": [
  {
   "cell_type": "code",
   "execution_count": 1,
   "id": "0161da88-f118-4269-9558-78b1d7d2a62f",
   "metadata": {},
   "outputs": [
    {
     "name": "stdin",
     "output_type": "stream",
     "text": [
      " 10\n"
     ]
    }
   ],
   "source": [
    "number=int(input())"
   ]
  },
  {
   "cell_type": "code",
   "execution_count": 2,
   "id": "ee76a251-ef97-4497-b800-d57ff77fc9fe",
   "metadata": {},
   "outputs": [],
   "source": [
    "factorial=1"
   ]
  },
  {
   "cell_type": "code",
   "execution_count": 3,
   "id": "82a56795-25bb-4d7d-ac3b-9803fcbe8a67",
   "metadata": {},
   "outputs": [],
   "source": [
    "for i in range(1,number+1):\n",
    "    factorial*=i"
   ]
  },
  {
   "cell_type": "code",
   "execution_count": 4,
   "id": "8cb218a3-621c-45e0-89f2-be4ba7d0fcb4",
   "metadata": {},
   "outputs": [
    {
     "name": "stdout",
     "output_type": "stream",
     "text": [
      "3628800\n"
     ]
    }
   ],
   "source": [
    "print(factorial)"
   ]
  }
 ],
 "metadata": {
  "kernelspec": {
   "display_name": "Python 3 (ipykernel)",
   "language": "python",
   "name": "python3"
  },
  "language_info": {
   "codemirror_mode": {
    "name": "ipython",
    "version": 3
   },
   "file_extension": ".py",
   "mimetype": "text/x-python",
   "name": "python",
   "nbconvert_exporter": "python",
   "pygments_lexer": "ipython3",
   "version": "3.11.7"
  }
 },
 "nbformat": 4,
 "nbformat_minor": 5
}
